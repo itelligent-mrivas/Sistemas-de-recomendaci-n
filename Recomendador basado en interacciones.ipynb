{
 "cells": [
  {
   "cell_type": "markdown",
   "metadata": {},
   "source": [
    "# Recomendador basado en interacciones\n",
    "Consiste en recomendar contenido de otros usuarios similares.\n",
    "#### Principales caracteristicas\n",
    "- Solo se necesitan las interacciones de los usuarios\n",
    "- Problemas de arranque en frio\n",
    "\n",
    "Usaremos la libreria [Surprise](https://surprise.readthedocs.io/en/stable/index.html)\n",
    "\n",
    "## Antes de comenzar... veamos el dataset\n",
    "Uso del dataset de [MovieLens](https://grouplens.org/datasets/movielens/)"
   ]
  },
  {
   "cell_type": "code",
   "execution_count": 1,
   "metadata": {},
   "outputs": [
    {
     "data": {
      "text/html": [
       "<div>\n",
       "<style scoped>\n",
       "    .dataframe tbody tr th:only-of-type {\n",
       "        vertical-align: middle;\n",
       "    }\n",
       "\n",
       "    .dataframe tbody tr th {\n",
       "        vertical-align: top;\n",
       "    }\n",
       "\n",
       "    .dataframe thead th {\n",
       "        text-align: right;\n",
       "    }\n",
       "</style>\n",
       "<table border=\"1\" class=\"dataframe\">\n",
       "  <thead>\n",
       "    <tr style=\"text-align: right;\">\n",
       "      <th></th>\n",
       "      <th>userId</th>\n",
       "      <th>movieId</th>\n",
       "      <th>rating</th>\n",
       "      <th>timestamp</th>\n",
       "    </tr>\n",
       "  </thead>\n",
       "  <tbody>\n",
       "    <tr>\n",
       "      <th>0</th>\n",
       "      <td>1</td>\n",
       "      <td>1</td>\n",
       "      <td>4.0</td>\n",
       "      <td>964982703</td>\n",
       "    </tr>\n",
       "    <tr>\n",
       "      <th>1</th>\n",
       "      <td>1</td>\n",
       "      <td>3</td>\n",
       "      <td>4.0</td>\n",
       "      <td>964981247</td>\n",
       "    </tr>\n",
       "    <tr>\n",
       "      <th>2</th>\n",
       "      <td>1</td>\n",
       "      <td>6</td>\n",
       "      <td>4.0</td>\n",
       "      <td>964982224</td>\n",
       "    </tr>\n",
       "    <tr>\n",
       "      <th>3</th>\n",
       "      <td>1</td>\n",
       "      <td>47</td>\n",
       "      <td>5.0</td>\n",
       "      <td>964983815</td>\n",
       "    </tr>\n",
       "    <tr>\n",
       "      <th>4</th>\n",
       "      <td>1</td>\n",
       "      <td>50</td>\n",
       "      <td>5.0</td>\n",
       "      <td>964982931</td>\n",
       "    </tr>\n",
       "  </tbody>\n",
       "</table>\n",
       "</div>"
      ],
      "text/plain": [
       "   userId  movieId  rating  timestamp\n",
       "0       1        1     4.0  964982703\n",
       "1       1        3     4.0  964981247\n",
       "2       1        6     4.0  964982224\n",
       "3       1       47     5.0  964983815\n",
       "4       1       50     5.0  964982931"
      ]
     },
     "execution_count": 1,
     "metadata": {},
     "output_type": "execute_result"
    }
   ],
   "source": [
    "import pandas as pd\n",
    "\n",
    "ratings = pd.read_csv('./dataset/ml-latest-small/ratings.csv')\n",
    "ratings.head(5)"
   ]
  },
  {
   "cell_type": "markdown",
   "metadata": {},
   "source": [
    "**Paso 1** Carga de los datos"
   ]
  },
  {
   "cell_type": "code",
   "execution_count": 2,
   "metadata": {},
   "outputs": [],
   "source": [
    "from surprise import Reader, Dataset\n",
    "\n",
    "ratings_dict = {'itemID': list(ratings.movieId),\n",
    "                'userID': list(ratings.userId),\n",
    "                'rating': list(ratings.rating)}\n",
    "df = pd.DataFrame(ratings_dict)\n",
    "\n",
    "#Escala de puntuaciones\n",
    "reader = Reader(rating_scale=(1.0, 5.0))\n",
    "\n",
    "# Carga de datos desde el data frame\n",
    "data = Dataset.load_from_df(df[['userID', 'itemID', 'rating']], reader)"
   ]
  },
  {
   "cell_type": "markdown",
   "metadata": {},
   "source": [
    "**Paso 2**. Creación de un model colaborativo usando [knn](https://surprise.readthedocs.io/en/stable/knn_inspired.html)"
   ]
  },
  {
   "cell_type": "code",
   "execution_count": 3,
   "metadata": {},
   "outputs": [
    {
     "name": "stdout",
     "output_type": "stream",
     "text": [
      "Computing the msd similarity matrix...\n",
      "Done computing similarity matrix.\n",
      "Computing the msd similarity matrix...\n",
      "Done computing similarity matrix.\n",
      "Computing the msd similarity matrix...\n",
      "Done computing similarity matrix.\n",
      "Computing the msd similarity matrix...\n",
      "Done computing similarity matrix.\n",
      "Computing the msd similarity matrix...\n",
      "Done computing similarity matrix.\n",
      "Evaluating RMSE of algorithm KNNBasic on 5 split(s).\n",
      "\n",
      "                  Fold 1  Fold 2  Fold 3  Fold 4  Fold 5  Mean    Std     \n",
      "RMSE (testset)    0.9463  0.9515  0.9377  0.9462  0.9524  0.9468  0.0052  \n",
      "Fit time          0.13    0.23    0.20    0.15    0.16    0.17    0.03    \n",
      "Test time         1.00    1.02    1.12    1.06    0.96    1.03    0.05    \n"
     ]
    },
    {
     "data": {
      "text/plain": [
       "{'test_rmse': array([0.94626857, 0.95152057, 0.93765959, 0.94620379, 0.95237071]),\n",
       " 'fit_time': (0.13288116455078125,\n",
       "  0.22644352912902832,\n",
       "  0.19774889945983887,\n",
       "  0.152998685836792,\n",
       "  0.1566019058227539),\n",
       " 'test_time': (1.0030765533447266,\n",
       "  1.0242466926574707,\n",
       "  1.1163949966430664,\n",
       "  1.0611610412597656,\n",
       "  0.9620113372802734)}"
      ]
     },
     "execution_count": 3,
     "metadata": {},
     "output_type": "execute_result"
    }
   ],
   "source": [
    "from surprise import KNNBasic\n",
    "from surprise.model_selection import cross_validate\n",
    "\n",
    "#knn\n",
    "algo = KNNBasic()\n",
    "cross_validate(algo, data, measures=['RMSE'], cv=5, verbose=True)"
   ]
  },
  {
   "cell_type": "markdown",
   "metadata": {},
   "source": [
    "### Estimación del valor de *K*"
   ]
  },
  {
   "cell_type": "code",
   "execution_count": 4,
   "metadata": {},
   "outputs": [
    {
     "name": "stdout",
     "output_type": "stream",
     "text": [
      "\n",
      "\n",
      "\n",
      "------------\n",
      "|   K = 10  |\n",
      "------------\n",
      "Computing the msd similarity matrix...\n",
      "Done computing similarity matrix.\n",
      "Computing the msd similarity matrix...\n",
      "Done computing similarity matrix.\n",
      "Computing the msd similarity matrix...\n",
      "Done computing similarity matrix.\n",
      "Computing the msd similarity matrix...\n",
      "Done computing similarity matrix.\n",
      "Computing the msd similarity matrix...\n",
      "Done computing similarity matrix.\n",
      "\n",
      "RESULATADO ENTRENAMIENTO: 0.9390791044183484\n",
      "--------------------------------\n",
      "\n",
      "\n",
      "\n",
      "------------\n",
      "|   K = 20  |\n",
      "------------\n",
      "Computing the msd similarity matrix...\n",
      "Done computing similarity matrix.\n",
      "Computing the msd similarity matrix...\n",
      "Done computing similarity matrix.\n",
      "Computing the msd similarity matrix...\n",
      "Done computing similarity matrix.\n",
      "Computing the msd similarity matrix...\n",
      "Done computing similarity matrix.\n",
      "Computing the msd similarity matrix...\n",
      "Done computing similarity matrix.\n",
      "\n",
      "RESULATADO ENTRENAMIENTO: 0.939553215407851\n",
      "--------------------------------\n",
      "\n",
      "\n",
      "\n",
      "------------\n",
      "|   K = 30  |\n",
      "------------\n",
      "Computing the msd similarity matrix...\n",
      "Done computing similarity matrix.\n",
      "Computing the msd similarity matrix...\n",
      "Done computing similarity matrix.\n",
      "Computing the msd similarity matrix...\n",
      "Done computing similarity matrix.\n",
      "Computing the msd similarity matrix...\n",
      "Done computing similarity matrix.\n",
      "Computing the msd similarity matrix...\n",
      "Done computing similarity matrix.\n",
      "\n",
      "RESULATADO ENTRENAMIENTO: 0.9440053010990292\n",
      "--------------------------------\n",
      "\n",
      "\n",
      "\n",
      "------------\n",
      "|   K = 40  |\n",
      "------------\n",
      "Computing the msd similarity matrix...\n",
      "Done computing similarity matrix.\n",
      "Computing the msd similarity matrix...\n",
      "Done computing similarity matrix.\n",
      "Computing the msd similarity matrix...\n",
      "Done computing similarity matrix.\n",
      "Computing the msd similarity matrix...\n",
      "Done computing similarity matrix.\n",
      "Computing the msd similarity matrix...\n",
      "Done computing similarity matrix.\n",
      "\n",
      "RESULATADO ENTRENAMIENTO: 0.9469459578802091\n",
      "--------------------------------\n",
      "\n",
      "\n",
      "\n",
      "------------\n",
      "|   K = 50  |\n",
      "------------\n",
      "Computing the msd similarity matrix...\n",
      "Done computing similarity matrix.\n",
      "Computing the msd similarity matrix...\n",
      "Done computing similarity matrix.\n",
      "Computing the msd similarity matrix...\n",
      "Done computing similarity matrix.\n",
      "Computing the msd similarity matrix...\n",
      "Done computing similarity matrix.\n",
      "Computing the msd similarity matrix...\n",
      "Done computing similarity matrix.\n",
      "\n",
      "RESULATADO ENTRENAMIENTO: 0.9490093655079554\n",
      "--------------------------------\n",
      "\n",
      "\n",
      "\n",
      "------------\n",
      "|   K = 60  |\n",
      "------------\n",
      "Computing the msd similarity matrix...\n",
      "Done computing similarity matrix.\n",
      "Computing the msd similarity matrix...\n",
      "Done computing similarity matrix.\n",
      "Computing the msd similarity matrix...\n",
      "Done computing similarity matrix.\n",
      "Computing the msd similarity matrix...\n",
      "Done computing similarity matrix.\n",
      "Computing the msd similarity matrix...\n",
      "Done computing similarity matrix.\n",
      "\n",
      "RESULATADO ENTRENAMIENTO: 0.9507034071398435\n",
      "--------------------------------\n",
      "\n",
      "\n",
      "\n",
      "------------\n",
      "|   K = 70  |\n",
      "------------\n",
      "Computing the msd similarity matrix...\n",
      "Done computing similarity matrix.\n",
      "Computing the msd similarity matrix...\n",
      "Done computing similarity matrix.\n",
      "Computing the msd similarity matrix...\n",
      "Done computing similarity matrix.\n",
      "Computing the msd similarity matrix...\n",
      "Done computing similarity matrix.\n",
      "Computing the msd similarity matrix...\n",
      "Done computing similarity matrix.\n",
      "\n",
      "RESULATADO ENTRENAMIENTO: 0.9511331084094143\n",
      "--------------------------------\n",
      "\n",
      "\n",
      "\n",
      "------------\n",
      "|   K = 80  |\n",
      "------------\n",
      "Computing the msd similarity matrix...\n",
      "Done computing similarity matrix.\n",
      "Computing the msd similarity matrix...\n",
      "Done computing similarity matrix.\n",
      "Computing the msd similarity matrix...\n",
      "Done computing similarity matrix.\n",
      "Computing the msd similarity matrix...\n",
      "Done computing similarity matrix.\n",
      "Computing the msd similarity matrix...\n",
      "Done computing similarity matrix.\n",
      "\n",
      "RESULATADO ENTRENAMIENTO: 0.9521152394492389\n",
      "--------------------------------\n",
      "\n",
      "\n",
      "\n",
      "------------\n",
      "|   K = 90  |\n",
      "------------\n",
      "Computing the msd similarity matrix...\n",
      "Done computing similarity matrix.\n",
      "Computing the msd similarity matrix...\n",
      "Done computing similarity matrix.\n",
      "Computing the msd similarity matrix...\n",
      "Done computing similarity matrix.\n",
      "Computing the msd similarity matrix...\n",
      "Done computing similarity matrix.\n",
      "Computing the msd similarity matrix...\n",
      "Done computing similarity matrix.\n",
      "\n",
      "RESULATADO ENTRENAMIENTO: 0.9546981758159149\n",
      "--------------------------------\n",
      "\n",
      "\n",
      "\n",
      "------------\n",
      "|   K = 100  |\n",
      "------------\n",
      "Computing the msd similarity matrix...\n",
      "Done computing similarity matrix.\n",
      "Computing the msd similarity matrix...\n",
      "Done computing similarity matrix.\n",
      "Computing the msd similarity matrix...\n",
      "Done computing similarity matrix.\n",
      "Computing the msd similarity matrix...\n",
      "Done computing similarity matrix.\n",
      "Computing the msd similarity matrix...\n",
      "Done computing similarity matrix.\n",
      "\n",
      "RESULATADO ENTRENAMIENTO: 0.9533449767524642\n",
      "--------------------------------\n"
     ]
    }
   ],
   "source": [
    "import numpy as np\n",
    "import matplotlib.pyplot as plt\n",
    "\n",
    "kValues =[10, 20, 30, 40, 50, 60, 70, 80, 90, 100]\n",
    "\n",
    "\n",
    "lstErrores = list()\n",
    "\n",
    "for i in range(len(kValues)):\n",
    "    print (\"\\n\\n\\n------------\")\n",
    "    print (\"|   K = \" + str(kValues[i])+\"  |\")\n",
    "    print (\"------------\")\n",
    "    \n",
    "    algo = KNNBasic(k=kValues[i])\n",
    "    estimacion = cross_validate(algo, data, measures=['RMSE'], cv=5)\n",
    "    \n",
    "    trainRes = np.average(estimacion['test_rmse'])\n",
    "    print (\"\\nRESULATADO ENTRENAMIENTO: \" + str(trainRes))\n",
    "    \n",
    "    lstErrores.append(trainRes)\n",
    "    print (\"--------------------------------\")"
   ]
  },
  {
   "cell_type": "code",
   "execution_count": 5,
   "metadata": {},
   "outputs": [
    {
     "data": {
      "image/png": "[encoded data removed]",
      "text/plain": [
       "<Figure size 640x480 with 1 Axes>"
      ]
     },
     "metadata": {},
     "output_type": "display_data"
    }
   ],
   "source": [
    "plt.plot(kValues,lstErrores)\n",
    "plt.xlabel('K')\n",
    "plt.ylabel('Score')\n",
    "plt.show()"
   ]
  },
  {
   "cell_type": "markdown",
   "metadata": {},
   "source": [
    "## Entrenamiento del modelo\n",
    "\n",
    "* Fijamos el valor de *K* según los errores obtenidos.\n",
    "* Usamos todos los valores para entrenar"
   ]
  },
  {
   "cell_type": "code",
   "execution_count": 6,
   "metadata": {},
   "outputs": [
    {
     "name": "stdout",
     "output_type": "stream",
     "text": [
      "Computing the msd similarity matrix...\n",
      "Done computing similarity matrix.\n"
     ]
    },
    {
     "data": {
      "text/plain": [
       "<surprise.prediction_algorithms.knns.KNNBasic at 0x1a33363d210>"
      ]
     },
     "execution_count": 6,
     "metadata": {},
     "output_type": "execute_result"
    }
   ],
   "source": [
    "kFijado = 80\n",
    "\n",
    "trainset = data.build_full_trainset()\n",
    "knnTrain = KNNBasic(k=kFijado)\n",
    "knnTrain.fit(trainset)"
   ]
  },
  {
   "cell_type": "markdown",
   "metadata": {},
   "source": [
    "## Realizamos una recomendación con el modelo entrenado\n",
    "\n",
    "Para datos ya conocidos"
   ]
  },
  {
   "cell_type": "code",
   "execution_count": 7,
   "metadata": {},
   "outputs": [
    {
     "name": "stdout",
     "output_type": "stream",
     "text": [
      "user: 1          item: 4          r_ui = 2.00   est = 2.52   {'actual_k': 7, 'was_impossible': False}\n"
     ]
    }
   ],
   "source": [
    "uid = 1  #Id del Usuario ¡¡IMPORTANTE!! el id debe existir\n",
    "iid = 4  #Id del Contenido ¡¡IMPORTANTE!! el id debe existir\n",
    "\n",
    "# Realizo una recomendación para el usuario y el contenido\n",
    "pred = knnTrain.predict(uid, iid, r_ui=2, verbose=True)"
   ]
  },
  {
   "cell_type": "markdown",
   "metadata": {},
   "source": [
    "## Recomendaciones para usuarios\n",
    "\n",
    "Buscar para cada usuario los 10 mejores elementos a recomendar\n",
    "\n",
    "**Paso 1**. Generamos precicciones para todos los pares de usuarios - contenidos que no están en el dataset de entrenameinto"
   ]
  },
  {
   "cell_type": "code",
   "execution_count": 8,
   "metadata": {},
   "outputs": [],
   "source": [
    "testset = trainset.build_anti_testset()\n",
    "predictions = knnTrain.test(testset)"
   ]
  },
  {
   "cell_type": "markdown",
   "metadata": {},
   "source": [
    "**Paso 2**. Procesamos la predicción para obtener para cada usuario los *n* mejores elementos"
   ]
  },
  {
   "cell_type": "code",
   "execution_count": 9,
   "metadata": {},
   "outputs": [],
   "source": [
    "from collections import defaultdict\n",
    "\n",
    "#Codigo proporcionado en la web de Surprise\n",
    "def get_top_n(predictions, n=10):\n",
    "    '''Return the top-N recommendation for each user from a set of predictions.\n",
    "\n",
    "    Args:\n",
    "        predictions(list of Prediction objects): The list of predictions, as\n",
    "            returned by the test method of an algorithm.\n",
    "        n(int): The number of recommendation to output for each user. Default\n",
    "            is 10.\n",
    "\n",
    "    Returns:\n",
    "    A dict where keys are user (raw) ids and values are lists of tuples:\n",
    "        [(raw item id, rating estimation), ...] of size n.\n",
    "    '''\n",
    "\n",
    "    # First map the predictions to each user.\n",
    "    top_n = defaultdict(list)\n",
    "    for uid, iid, true_r, est, _ in predictions:\n",
    "        top_n[uid].append((iid, est))\n",
    "\n",
    "    # Then sort the predictions for each user and retrieve the k highest ones.\n",
    "    for uid, user_ratings in top_n.items():\n",
    "        user_ratings.sort(key=lambda x: x[1], reverse=True)\n",
    "        top_n[uid] = user_ratings[:n]\n",
    "\n",
    "    return top_n\n",
    "\n",
    "topUsuarios = get_top_n(predictions)\n"
   ]
  },
  {
   "cell_type": "markdown",
   "metadata": {},
   "source": [
    "**Paso 3**. Obtener recomendación para usuarios"
   ]
  },
  {
   "cell_type": "code",
   "execution_count": 10,
   "metadata": {},
   "outputs": [
    {
     "name": "stdout",
     "output_type": "stream",
     "text": [
      "Recomendación usuario 1\n",
      "[(131724, 5.0), (5746, 5.0), (6835, 5.0), (3851, 5.0), (1151, 5.0), (1631, 5.0), (2075, 5.0), (176601, 5.0), (92494, 5.0), (102217, 5.0)]\n",
      "\n",
      "--------------------------------------------------\n",
      "\n",
      "\n",
      "Recomendación usuario 2\n",
      "[(3851, 5.0), (5890, 5.0), (238, 5.0), (685, 5.0), (484, 5.0), (1105, 5.0), (1151, 5.0), (176601, 5.0), (92494, 5.0), (102217, 5.0)]\n",
      "\n",
      "--------------------------------------------------\n",
      "\n",
      "\n",
      "Recomendación usuario 78\n",
      "[(131724, 5.0), (3851, 5.0), (1151, 5.0), (1631, 5.0), (1696, 5.0), (2075, 5.0), (176601, 5.0), (92494, 5.0), (102217, 5.0), (27523, 5.0)]\n",
      "\n",
      "--------------------------------------------------\n",
      "\n",
      "\n"
     ]
    }
   ],
   "source": [
    "lstUsuariosRecomendar = [1,2,78]\n",
    "\n",
    "for i in range(len(lstUsuariosRecomendar)):\n",
    "    print (\"Recomendación usuario \" + str(lstUsuariosRecomendar[i]))\n",
    "    print (topUsuarios[lstUsuariosRecomendar[i]] )\n",
    "    print (\"\\n--------------------------------------------------\\n\\n\")\n"
   ]
  }
 ],
 "metadata": {
  "kernelspec": {
   "display_name": "Python 3 (ipykernel)",
   "language": "python",
   "name": "python3"
  },
  "language_info": {
   "codemirror_mode": {
    "name": "ipython",
    "version": 3
   },
   "file_extension": ".py",
   "mimetype": "text/x-python",
   "name": "python",
   "nbconvert_exporter": "python",
   "pygments_lexer": "ipython3",
   "version": "3.11.5"
  }
 },
 "nbformat": 4,
 "nbformat_minor": 2
}
